{
 "cells": [
  {
   "cell_type": "code",
   "execution_count": 7,
   "metadata": {},
   "outputs": [
    {
     "name": "stdout",
     "output_type": "stream",
     "text": [
      "Zaid H. Ali\n",
      "918 Potter Ave\n",
      "Bowling Green KY\n",
      "Zaid H. Ali, 918 Potter Ave,Bowling Green KY\n"
     ]
    }
   ],
   "source": [
    "## Exercise 1: Address\n",
    "\n",
    "print (\"Zaid H. Ali\")       #This is obvious \n",
    "print (\"918 Potter Ave\")\n",
    "print (\"Bowling Green KY\")\n",
    "\n",
    "print ('Zaid H. Ali, 918 Potter Ave,Bowling Green KY')"
   ]
  },
  {
   "cell_type": "code",
   "execution_count": 14,
   "metadata": {},
   "outputs": [
    {
     "name": "stdout",
     "output_type": "stream",
     "text": [
      "Hello Zaid !\n"
     ]
    }
   ],
   "source": [
    "# Exercise 2: Hellow User\n",
    "\n",
    "name = input('input your name:')\n",
    "print ('Hello', name,'!')\n"
   ]
  },
  {
   "cell_type": "code",
   "execution_count": 15,
   "metadata": {},
   "outputs": [
    {
     "data": {
      "text/plain": [
       "'Zaid'"
      ]
     },
     "execution_count": 15,
     "metadata": {},
     "output_type": "execute_result"
    }
   ],
   "source": [
    "name"
   ]
  },
  {
   "cell_type": "code",
   "execution_count": 6,
   "metadata": {},
   "outputs": [
    {
     "name": "stdout",
     "output_type": "stream",
     "text": [
      "25.0\n"
     ]
    }
   ],
   "source": [
    "## Example 3: Area of room\n",
    "\n",
    "Length = float(input('Length of room in meters'))\n",
    "Width = float(input('Width of room in meters'))\n",
    "\n",
    "Area = Length*Width\n",
    "print(Area)"
   ]
  },
  {
   "cell_type": "code",
   "execution_count": 18,
   "metadata": {},
   "outputs": [],
   "source": [
    "def area(Length,Width):\n",
    "    area = Length * Width\n",
    "    return area\n"
   ]
  },
  {
   "cell_type": "code",
   "execution_count": 20,
   "metadata": {},
   "outputs": [
    {
     "data": {
      "text/plain": [
       "25.0"
      ]
     },
     "execution_count": 20,
     "metadata": {},
     "output_type": "execute_result"
    }
   ],
   "source": [
    "area(Length,Width)"
   ]
  },
  {
   "cell_type": "raw",
   "metadata": {},
   "source": []
  },
  {
   "cell_type": "code",
   "execution_count": null,
   "metadata": {},
   "outputs": [
    {
     "name": "stdout",
     "output_type": "stream",
     "text": [
      "This software will create a sorted list of intergers.\n",
      "Please enter your positive integers one at a time.\n",
      "Enter a value of 0 to exit program and display the list.\n",
      "[]\n",
      "[1]\n",
      "[1, 2]\n",
      "[1, 2, 3]\n",
      "[1, 2, 3, 4]\n",
      "[1, 2, 3, 4, 5]\n"
     ]
    }
   ],
   "source": [
    "## Exercise 104: Sorted Order\n",
    "\n",
    "print('This software will create a sorted list of intergers.')\n",
    "print('Please enter your positive integers one at a time.')\n",
    "print('Enter a value of 0 to exit program and display the list.')\n",
    "\n",
    "myList = []\n",
    "i = 1\n",
    "\n",
    "while i > 0:\n",
    "    i = int(input('input an integer or 0 to quit:'))\n",
    "    myList.append(i)\n",
    "    \n",
    "    print(myList[:len(myList)-1])"
   ]
  },
  {
   "cell_type": "code",
   "execution_count": null,
   "metadata": {},
   "outputs": [],
   "source": []
  }
 ],
 "metadata": {
  "kernelspec": {
   "display_name": "Python 3",
   "language": "python",
   "name": "python3"
  },
  "language_info": {
   "codemirror_mode": {
    "name": "ipython",
    "version": 3
   },
   "file_extension": ".py",
   "mimetype": "text/x-python",
   "name": "python",
   "nbconvert_exporter": "python",
   "pygments_lexer": "ipython3",
   "version": "3.6.3"
  }
 },
 "nbformat": 4,
 "nbformat_minor": 2
}
